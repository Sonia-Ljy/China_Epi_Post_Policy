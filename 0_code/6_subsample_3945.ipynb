{
 "cells": [
  {
   "cell_type": "code",
   "execution_count": 1,
   "metadata": {},
   "outputs": [],
   "source": [
    "import pandas as pd\n",
    "import csv\n",
    "import numpy as np\n",
    "import os\n",
    "from Bio import SeqIO\n",
    "from pyecharts.charts import Map"
   ]
  },
  {
   "cell_type": "code",
   "execution_count": null,
   "metadata": {},
   "outputs": [],
   "source": [
    "# https://github.com/wuaipinglab/covSampler\n",
    "# 安装covSampler v2.0.0，并按照教程使用\n",
    "# parameters.yaml文件中设置参数：\n",
    "#   sequence_min_length:27000\n",
    "#   size:3945\n",
    "#   characteristic:Comprehensive\n",
    "\n",
    "# 获得/home/soniali/Desktop/02_china_recom_github/2_treetime/covsampler_3945/subsamples_Comprehensive.txt文件，即被抽样的3945条序列ID"
   ]
  },
  {
   "cell_type": "code",
   "execution_count": 2,
   "metadata": {},
   "outputs": [],
   "source": [
    "meta_file = \"/home/soniali/Desktop/02_china_recom_github/0_raw_data/Qualified_china_meta_merged.txt\"\n",
    "fasta_file = \"/home/soniali/Desktop/02_china_recom_github/0_raw_data/Gisaid-qualified-china.fasta\"\n",
    "output_path = \"/home/soniali/Desktop/02_china_recom_github/2_treetime/covsampler_3945/\"\n",
    "compre_sub = output_path+\"subsamples_Comprehensive.txt\""
   ]
  },
  {
   "cell_type": "code",
   "execution_count": 3,
   "metadata": {},
   "outputs": [],
   "source": [
    "need_id = []\n",
    "with open(compre_sub) as f:\n",
    "    for row in f.readlines():\n",
    "        if row[0] != \"#\":\n",
    "            need_id.append(row.strip())\n",
    "\n",
    "with open(output_path+\"Qualified-china-comprehensive-subsample-3945.fasta\",\"a+\") as h:\n",
    "    with open(fasta_file, \"r\") as f:\n",
    "        for record in SeqIO.parse(f,\"fasta\"):\n",
    "            if  {str(record.id)} - set(need_id) == set():\n",
    "                h.write(\">\"+str(record.id)+\"\\n\")\n",
    "                h.write(str(record.seq)+\"\\n\")"
   ]
  },
  {
   "cell_type": "code",
   "execution_count": 4,
   "metadata": {},
   "outputs": [
    {
     "data": {
      "text/plain": [
       "3945"
      ]
     },
     "execution_count": 4,
     "metadata": {},
     "output_type": "execute_result"
    }
   ],
   "source": [
    "len(need_id)"
   ]
  },
  {
   "cell_type": "code",
   "execution_count": 6,
   "metadata": {},
   "outputs": [],
   "source": [
    "df_meta = pd.read_csv(meta_file) \n",
    "df_meta2 = df_meta[df_meta[\"Accession_ID\"].isin(need_id)]\n",
    "df_meta2.to_csv(output_path+\"Qualified_china_meta-comp-3945.tsv\",index=None,sep = \"\\t\")"
   ]
  }
 ],
 "metadata": {
  "interpreter": {
   "hash": "90e8717b28a9aac3b69b4bcb0692af4b61da6a939a8351c80ea2b4525614cf09"
  },
  "kernelspec": {
   "display_name": "Python 3.9.7 64-bit ('Mafft': conda)",
   "language": "python",
   "name": "python3"
  },
  "language_info": {
   "codemirror_mode": {
    "name": "ipython",
    "version": 3
   },
   "file_extension": ".py",
   "mimetype": "text/x-python",
   "name": "python",
   "nbconvert_exporter": "python",
   "pygments_lexer": "ipython3",
   "version": "3.9.7"
  },
  "orig_nbformat": 4
 },
 "nbformat": 4,
 "nbformat_minor": 2
}
