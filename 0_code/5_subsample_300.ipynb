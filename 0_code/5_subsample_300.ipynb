{
 "cells": [
  {
   "cell_type": "code",
   "execution_count": 1,
   "metadata": {},
   "outputs": [],
   "source": [
    "import pandas as pd\n",
    "import csv\n",
    "import numpy as np\n",
    "import os\n",
    "from Bio import SeqIO\n",
    "from pyecharts.charts import Map"
   ]
  },
  {
   "cell_type": "code",
   "execution_count": null,
   "metadata": {},
   "outputs": [],
   "source": [
    "# https://github.com/wuaipinglab/covSampler\n",
    "# 安装covSampler v2.0.0，并按照教程使用\n",
    "# parameters.yaml文件中设置参数：\n",
    "#   sequence_min_length:27000\n",
    "#   size:300\n",
    "#   characteristic:Comprehensive\n",
    "\n",
    "# 获得/home/soniali/Desktop/02_china_recom_renew/0_raw_data/covsampler_300/subsamples_Comprehensive_300.txt文件，即被抽样的300条序列ID"
   ]
  },
  {
   "cell_type": "code",
   "execution_count": null,
   "metadata": {},
   "outputs": [],
   "source": [
    "# 对所有中国基因组序列进行建树，并将生成的.json文件放入https://auspice.us 网站中，与世界背景下的新冠毒株进行系统发育关系比较。\n",
    "\n",
    "# cd /home/soniali/Desktop/02_china_recom_renew/0_raw_data\n",
    "# nextclade run \\\n",
    "#    --input-dataset data/sars-cov-2 \\\n",
    "#    --output-all=/home/soniali/Desktop/02_china_recom_renew/0_raw_data/China_output_Gisaid \\\n",
    "# /home/soniali/Desktop/02_china_recom_renew/0_raw_data/Gisaid-qualified-china.fasta"
   ]
  },
  {
   "cell_type": "code",
   "execution_count": 3,
   "metadata": {},
   "outputs": [],
   "source": [
    "meta_file = \"/home/soniali/Desktop/02_china_recom_renew/0_raw_data/Qualified_china_meta_merged.csv\"\n",
    "fasta_file = \"/home/soniali/Desktop/02_china_recom_renew/0_raw_data/Gisaid-qualified-china.fasta\"\n",
    "output_path = \"/home/soniali/Desktop/02_china_recom_renew/0_raw_data/covsampler_300/\"\n",
    "compre_sub = output_path+\"subsamples_Comprehensive_300.txt\"\n"
   ]
  },
  {
   "cell_type": "code",
   "execution_count": 5,
   "metadata": {},
   "outputs": [],
   "source": [
    "need_id = []\n",
    "with open(compre_sub) as f:\n",
    "    for row in f.readlines():\n",
    "        if row[0] != \"#\":\n",
    "            need_id.append(row.strip())\n",
    "\n",
    "with open(output_path+\"Qualified-china-comprehensive-subsample-300.fasta\",\"a+\") as h:\n",
    "    with open(fasta_file, \"r\") as f:\n",
    "        for record in SeqIO.parse(f,\"fasta\"):\n",
    "            if  {str(record.id)} - set(need_id) == set():\n",
    "                h.write(\">\"+str(record.id)+\"\\n\")\n",
    "                h.write(str(record.seq)+\"\\n\")"
   ]
  },
  {
   "cell_type": "code",
   "execution_count": 6,
   "metadata": {},
   "outputs": [
    {
     "data": {
      "text/plain": [
       "300"
      ]
     },
     "execution_count": 6,
     "metadata": {},
     "output_type": "execute_result"
    }
   ],
   "source": [
    "len(need_id)"
   ]
  },
  {
   "cell_type": "code",
   "execution_count": 7,
   "metadata": {},
   "outputs": [],
   "source": [
    "df_meta = pd.read_csv(meta_file) \n",
    "df_meta2 = df_meta[df_meta[\"Accession_ID\"].isin(need_id)]\n",
    "desired_columns = [\"Accession_ID\",\"Lineage\",\"province\",\"merged_lineage\",\"date\"]\n",
    "filtered_df = df_meta2[desired_columns]\n",
    "filtered_df.to_csv(output_path+\"meta_300_v2.csv\",index=None,sep = \",\")\n",
    "# df_meta2.to_csv(output_path+\"Qualified_china_meta-representative-subsample-300.tsv\",index=None,sep = \"\\t\")"
   ]
  },
  {
   "cell_type": "code",
   "execution_count": null,
   "metadata": {},
   "outputs": [],
   "source": [
    "# 安装并使用IQ-TREE v2.1.4软件，基于其ModelFinder工具确定最佳替代模型\n",
    "# 运行命令： iqtree -s sub300ref_iqtree.fasta -bb 1000 -alrt 1000 -o Reference\n",
    "# 运行命令及结果记录于：/home/soniali/Desktop/02_china_recom_renew/0_raw_data/covsampler_300/sub300ref_iqtree.fasta.log\n",
    "# 运行/home/soniali/Desktop/02_china_recom_renew/0_raw_data/covsampler_300/ggtree.r"
   ]
  }
 ],
 "metadata": {
  "interpreter": {
   "hash": "90e8717b28a9aac3b69b4bcb0692af4b61da6a939a8351c80ea2b4525614cf09"
  },
  "kernelspec": {
   "display_name": "Python 3.9.7 64-bit ('Mafft': conda)",
   "language": "python",
   "name": "python3"
  },
  "language_info": {
   "codemirror_mode": {
    "name": "ipython",
    "version": 3
   },
   "file_extension": ".py",
   "mimetype": "text/x-python",
   "name": "python",
   "nbconvert_exporter": "python",
   "pygments_lexer": "ipython3",
   "version": "3.9.7"
  },
  "orig_nbformat": 4
 },
 "nbformat": 4,
 "nbformat_minor": 2
}
