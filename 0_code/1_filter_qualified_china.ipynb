{
 "cells": [
  {
   "cell_type": "code",
   "execution_count": 2,
   "metadata": {},
   "outputs": [],
   "source": [
    "import os\n",
    "import pandas as pd\n",
    "import csv"
   ]
  },
  {
   "cell_type": "code",
   "execution_count": null,
   "metadata": {},
   "outputs": [],
   "source": [
    "# 根据“CNCB_GISAID_metadata_china_20221201-20231031.xlsx”提供的ID从GISAID下载41708条序列:\"Gisaid-china.fasta\",41708条\n",
    "# 使用nextclade工具对其进行运算，保留nextclade.csv、nextclade.tsv、nextclade.aligned.fasta.gz结果，解压.gz文件。\n",
    "# nextclade run \\\n",
    "#    --input-dataset data/sars-cov-2 \\\n",
    "#    --output-all=/home/soniali/Desktop/02_china_recom_github/0_raw_data/China_output_Gisaid \\\n",
    "# /home/soniali/Desktop/02_china_recom_github/0_raw_data/Gisaid-china.fasta"
   ]
  },
  {
   "cell_type": "code",
   "execution_count": 6,
   "metadata": {},
   "outputs": [],
   "source": [
    "dirpath = \"/home/soniali/Desktop/02_china_recom_github/0_raw_data/\"\n",
    "gisaid_nexttsv = dirpath+\"China_output_Gisaid/nextclade.tsv\"   ## 保存在14.174中/Data4/Data_public/china/output_Gisaid\n",
    "gisaid_metacsv = dirpath+\"CNCB_GISAID_metadata_china_20221201-20231031.xlsx\""
   ]
  },
  {
   "cell_type": "code",
   "execution_count": 7,
   "metadata": {},
   "outputs": [
    {
     "name": "stdout",
     "output_type": "stream",
     "text": [
      "(41708, 7)\n",
      "(40091, 7)\n",
      "(40091, 7)\n"
     ]
    },
    {
     "name": "stderr",
     "output_type": "stream",
     "text": [
      "/tmp/ipykernel_2890823/464067568.py:1: DtypeWarning: Columns (55,65) have mixed types. Specify dtype option on import or set low_memory=False.\n",
      "  df0 = pd.read_table(gisaid_nexttsv)\n"
     ]
    }
   ],
   "source": [
    "df0 = pd.read_table(gisaid_nexttsv)\n",
    "df = df0.loc[:,[\"seqName\",\"Nextclade_pango\",\"partiallyAliased\",\"clade_nextstrain\",\"clade_display\",\"qc.overallStatus\",\"coverage\"]]\n",
    "print(df.shape) # (41708,7)\n",
    "df1=  df.loc[df['qc.overallStatus'] == \"good\"] \n",
    "print(df1.shape) #(40091, 7)\n",
    "df2=  df1.loc[df['coverage'] >=0.97] \n",
    "print(df2.shape) #(40091, 7)\n",
    "gisaid_qualified_ID = df2.seqName.tolist()\n",
    "# qualified_ID"
   ]
  },
  {
   "cell_type": "code",
   "execution_count": 41,
   "metadata": {},
   "outputs": [],
   "source": [
    "gisaid_qualified_epi = []\n",
    "for stain_name in gisaid_qualified_ID:\n",
    "    if \"EPI_ISL\" in stain_name:\n",
    "        seq_id = \"EPI_\"+stain_name.split(\"|EPI_\")[1].split(\"|\")[0]\n",
    "        gisaid_qualified_epi.append(seq_id)"
   ]
  },
  {
   "cell_type": "code",
   "execution_count": 60,
   "metadata": {},
   "outputs": [
    {
     "data": {
      "text/plain": [
       "39456"
      ]
     },
     "execution_count": 60,
     "metadata": {},
     "output_type": "execute_result"
    }
   ],
   "source": [
    "df_meta = pd.read_excel(gisaid_metacsv)\n",
    "df_meta = pd.DataFrame(df_meta)\n",
    "df_meta_2 = df_meta[df_meta[\"Accession ID\"].isin(gisaid_qualified_epi)]\n",
    "num = 0\n",
    "chinese_qualified_epi = []\n",
    "for i in df_meta_2.index:\n",
    "    if str(df_meta_2.loc[i,\"Sample Collection Date\"]).count(\"-\") >=2:\n",
    "        if df_meta_2.loc[i,\"Location\"].count(\"/\") >=1:\n",
    "            chinese_qualified_epi.append(df_meta_2.loc[i,\"Accession ID\"])\n",
    "            num+=1\n",
    "num\n"
   ]
  },
  {
   "cell_type": "code",
   "execution_count": 77,
   "metadata": {},
   "outputs": [
    {
     "data": {
      "text/html": [
       "<div>\n",
       "<style scoped>\n",
       "    .dataframe tbody tr th:only-of-type {\n",
       "        vertical-align: middle;\n",
       "    }\n",
       "\n",
       "    .dataframe tbody tr th {\n",
       "        vertical-align: top;\n",
       "    }\n",
       "\n",
       "    .dataframe thead th {\n",
       "        text-align: right;\n",
       "    }\n",
       "</style>\n",
       "<table border=\"1\" class=\"dataframe\">\n",
       "  <thead>\n",
       "    <tr style=\"text-align: right;\">\n",
       "      <th></th>\n",
       "      <th>Virus Strain Name</th>\n",
       "      <th>Accession ID</th>\n",
       "      <th>Lineage</th>\n",
       "      <th>Sample Collection Date</th>\n",
       "      <th>Location</th>\n",
       "      <th>country</th>\n",
       "      <th>province</th>\n",
       "      <th>city</th>\n",
       "    </tr>\n",
       "  </thead>\n",
       "  <tbody>\n",
       "    <tr>\n",
       "      <th>0</th>\n",
       "      <td>hCoV-19/Henan/HBCDC-CX109/2023</td>\n",
       "      <td>EPI_ISL_18543055</td>\n",
       "      <td>EG.5.1.1</td>\n",
       "      <td>2023-10-26 00:00:00</td>\n",
       "      <td>China / Henan / Hebi</td>\n",
       "      <td>China</td>\n",
       "      <td>Henan</td>\n",
       "      <td>Hebi</td>\n",
       "    </tr>\n",
       "    <tr>\n",
       "      <th>1</th>\n",
       "      <td>hCoV-19/Henan/HBCDC-CX108/2023</td>\n",
       "      <td>EPI_ISL_18543054</td>\n",
       "      <td>HK.2</td>\n",
       "      <td>2023-10-26 00:00:00</td>\n",
       "      <td>China / Henan / Hebi</td>\n",
       "      <td>China</td>\n",
       "      <td>Henan</td>\n",
       "      <td>Hebi</td>\n",
       "    </tr>\n",
       "    <tr>\n",
       "      <th>2</th>\n",
       "      <td>hCoV-19/Henan/HBCDC-CX106/2023</td>\n",
       "      <td>EPI_ISL_18543053</td>\n",
       "      <td>HK.3</td>\n",
       "      <td>2023-10-26 00:00:00</td>\n",
       "      <td>China / Henan / Hebi</td>\n",
       "      <td>China</td>\n",
       "      <td>Henan</td>\n",
       "      <td>Hebi</td>\n",
       "    </tr>\n",
       "    <tr>\n",
       "      <th>3</th>\n",
       "      <td>hCoV-19/Henan/HBCDC-CX105/2023</td>\n",
       "      <td>EPI_ISL_18543052</td>\n",
       "      <td>HK.3.2</td>\n",
       "      <td>2023-10-26 00:00:00</td>\n",
       "      <td>China / Henan / Hebi</td>\n",
       "      <td>China</td>\n",
       "      <td>Henan</td>\n",
       "      <td>Hebi</td>\n",
       "    </tr>\n",
       "    <tr>\n",
       "      <th>4</th>\n",
       "      <td>hCoV-19/Henan/HBCDC-CX104/2023</td>\n",
       "      <td>EPI_ISL_18543051</td>\n",
       "      <td>HK.3</td>\n",
       "      <td>2023-10-26 00:00:00</td>\n",
       "      <td>China / Henan / Hebi</td>\n",
       "      <td>China</td>\n",
       "      <td>Henan</td>\n",
       "      <td>Hebi</td>\n",
       "    </tr>\n",
       "  </tbody>\n",
       "</table>\n",
       "</div>"
      ],
      "text/plain": [
       "                Virus Strain Name      Accession ID   Lineage   \n",
       "0  hCoV-19/Henan/HBCDC-CX109/2023  EPI_ISL_18543055  EG.5.1.1  \\\n",
       "1  hCoV-19/Henan/HBCDC-CX108/2023  EPI_ISL_18543054      HK.2   \n",
       "2  hCoV-19/Henan/HBCDC-CX106/2023  EPI_ISL_18543053      HK.3   \n",
       "3  hCoV-19/Henan/HBCDC-CX105/2023  EPI_ISL_18543052    HK.3.2   \n",
       "4  hCoV-19/Henan/HBCDC-CX104/2023  EPI_ISL_18543051      HK.3   \n",
       "\n",
       "  Sample Collection Date              Location country province  city  \n",
       "0    2023-10-26 00:00:00  China / Henan / Hebi   China    Henan  Hebi  \n",
       "1    2023-10-26 00:00:00  China / Henan / Hebi   China    Henan  Hebi  \n",
       "2    2023-10-26 00:00:00  China / Henan / Hebi   China    Henan  Hebi  \n",
       "3    2023-10-26 00:00:00  China / Henan / Hebi   China    Henan  Hebi  \n",
       "4    2023-10-26 00:00:00  China / Henan / Hebi   China    Henan  Hebi  "
      ]
     },
     "execution_count": 77,
     "metadata": {},
     "output_type": "execute_result"
    }
   ],
   "source": [
    "df_meta_qualified = df_meta_2[df_meta_2[\"Accession ID\"].isin(chinese_qualified_epi)]\n",
    "df_meta_qualified = df_meta_qualified.drop(columns=['Sequence Length'])\n",
    "\n",
    "for i in df_meta_qualified.index:\n",
    "    df_meta_qualified.loc[i,\"country\"] = df_meta_qualified.loc[i,\"Location\"].split(\"/\")[0].strip()\n",
    "    df_meta_qualified.loc[i,\"province\"] = df_meta_qualified.loc[i,\"Location\"].split(\"/\")[1].strip()\n",
    "    if len(df_meta_qualified.loc[i,\"Location\"].split(\"/\")) >= 3:\n",
    "        df_meta_qualified.loc[i,\"city\"] = df_meta_qualified.loc[i,\"Location\"].split(\"/\")[2].strip()\n",
    "    else:\n",
    "        df_meta_qualified.loc[i,\"city\"] = \"\"\n",
    "        \n",
    "df_meta_qualified.head()"
   ]
  },
  {
   "cell_type": "code",
   "execution_count": 94,
   "metadata": {},
   "outputs": [],
   "source": [
    "df_meta_qualified_2 = df_meta_qualified.drop(columns=['Location'])\n",
    "df_meta_qualified_2['Sample Collection Date'] = pd.to_datetime(df_meta_qualified_2['Sample Collection Date'])\n",
    "df_meta_qualified_2['Sample Collection Date'] = df_meta_qualified_2['Sample Collection Date'].dt.strftime('%m/%d/%Y')\n",
    "df_meta_qualified_2.columns = df_meta_qualified_2.columns.str.replace(' ', '_')\n",
    "chinese_qualified_ID = df_meta_qualified_2.Accession_ID.tolist()"
   ]
  },
  {
   "cell_type": "code",
   "execution_count": 93,
   "metadata": {},
   "outputs": [
    {
     "data": {
      "text/plain": [
       "39456"
      ]
     },
     "execution_count": 93,
     "metadata": {},
     "output_type": "execute_result"
    }
   ],
   "source": [
    "len(chinese_qualified_ID)"
   ]
  },
  {
   "cell_type": "code",
   "execution_count": null,
   "metadata": {},
   "outputs": [],
   "source": [
    "from Bio import SeqIO\n",
    "\n",
    "with open(dirpath+\"Gisaid-qualified-china.fasta\",\"a+\") as f:\n",
    "    with open(dirpath+\"China_output_Gisaid/nextclade.aligned.fasta\",\"r\") as h: \n",
    "        for record in SeqIO.parse(h,\"fasta\"):\n",
    "            if  {str(record.id)} - set(chinese_qualified_ID) == set():\n",
    "                f.write(\">\"+str(record.id)+\"\\n\")\n",
    "                f.write(str(record.seq)+\"\\n\")"
   ]
  },
  {
   "cell_type": "code",
   "execution_count": null,
   "metadata": {},
   "outputs": [],
   "source": [
    "# 对Qualified-china.fasta进行nextclade运算，生成“0_raw_data/GISAID_nextclade”文件夹\n",
    "# nextclade run \\\n",
    "#    --input-dataset data/sars-cov-2 \\\n",
    "#    --output-all=/home/soniali/Desktop/02_china_recom_github/0_raw_data/GISAID_nextclade \\\n",
    "# /home/soniali/Desktop/02_china_recom_github/0_raw_data/Gisaid-qualified-china.fasta\n",
    "\n",
    "# 保留nextclade.csv、nextclade.tsv、nextclade.auspice.json、nextclade.aligned.fasta.gz结果，解压.gz文件。\n",
    "# 将nextclade.auspice.json和Qualified_china_meta_auspice.tsv文件放入 https://auspice.us 网站，与全球新冠树进行比较，下载系统发育树分析结果"
   ]
  },
  {
   "cell_type": "code",
   "execution_count": 87,
   "metadata": {},
   "outputs": [],
   "source": [
    "df = pd.read_csv('/home/soniali/Desktop/02_china_recom_github/0_raw_data/GISAID_nextclade/nextclade.tsv', sep='\\t', usecols=['seqName', 'Nextclade_pango'])\n",
    "result_dict = df.set_index('seqName')['Nextclade_pango'].to_dict()\n",
    "df_meta_qualified_2.head()"
   ]
  },
  {
   "cell_type": "code",
   "execution_count": 96,
   "metadata": {},
   "outputs": [
    {
     "data": {
      "text/html": [
       "<div>\n",
       "<style scoped>\n",
       "    .dataframe tbody tr th:only-of-type {\n",
       "        vertical-align: middle;\n",
       "    }\n",
       "\n",
       "    .dataframe tbody tr th {\n",
       "        vertical-align: top;\n",
       "    }\n",
       "\n",
       "    .dataframe thead th {\n",
       "        text-align: right;\n",
       "    }\n",
       "</style>\n",
       "<table border=\"1\" class=\"dataframe\">\n",
       "  <thead>\n",
       "    <tr style=\"text-align: right;\">\n",
       "      <th></th>\n",
       "      <th>Virus_Strain_Name</th>\n",
       "      <th>Accession_ID</th>\n",
       "      <th>Lineage</th>\n",
       "      <th>Sample_Collection_Date</th>\n",
       "      <th>country</th>\n",
       "      <th>province</th>\n",
       "      <th>city</th>\n",
       "    </tr>\n",
       "  </thead>\n",
       "  <tbody>\n",
       "    <tr>\n",
       "      <th>0</th>\n",
       "      <td>hCoV-19/Henan/HBCDC-CX109/2023</td>\n",
       "      <td>EPI_ISL_18543055</td>\n",
       "      <td>HK.27.1</td>\n",
       "      <td>10/26/2023</td>\n",
       "      <td>China</td>\n",
       "      <td>Henan</td>\n",
       "      <td>Hebi</td>\n",
       "    </tr>\n",
       "    <tr>\n",
       "      <th>1</th>\n",
       "      <td>hCoV-19/Henan/HBCDC-CX108/2023</td>\n",
       "      <td>EPI_ISL_18543054</td>\n",
       "      <td>HK.2</td>\n",
       "      <td>10/26/2023</td>\n",
       "      <td>China</td>\n",
       "      <td>Henan</td>\n",
       "      <td>Hebi</td>\n",
       "    </tr>\n",
       "    <tr>\n",
       "      <th>2</th>\n",
       "      <td>hCoV-19/Henan/HBCDC-CX106/2023</td>\n",
       "      <td>EPI_ISL_18543053</td>\n",
       "      <td>HK.3</td>\n",
       "      <td>10/26/2023</td>\n",
       "      <td>China</td>\n",
       "      <td>Henan</td>\n",
       "      <td>Hebi</td>\n",
       "    </tr>\n",
       "    <tr>\n",
       "      <th>3</th>\n",
       "      <td>hCoV-19/Henan/HBCDC-CX105/2023</td>\n",
       "      <td>EPI_ISL_18543052</td>\n",
       "      <td>HK.3.2</td>\n",
       "      <td>10/26/2023</td>\n",
       "      <td>China</td>\n",
       "      <td>Henan</td>\n",
       "      <td>Hebi</td>\n",
       "    </tr>\n",
       "    <tr>\n",
       "      <th>4</th>\n",
       "      <td>hCoV-19/Henan/HBCDC-CX104/2023</td>\n",
       "      <td>EPI_ISL_18543051</td>\n",
       "      <td>HK.3</td>\n",
       "      <td>10/26/2023</td>\n",
       "      <td>China</td>\n",
       "      <td>Henan</td>\n",
       "      <td>Hebi</td>\n",
       "    </tr>\n",
       "  </tbody>\n",
       "</table>\n",
       "</div>"
      ],
      "text/plain": [
       "                Virus_Strain_Name      Accession_ID  Lineage   \n",
       "0  hCoV-19/Henan/HBCDC-CX109/2023  EPI_ISL_18543055  HK.27.1  \\\n",
       "1  hCoV-19/Henan/HBCDC-CX108/2023  EPI_ISL_18543054     HK.2   \n",
       "2  hCoV-19/Henan/HBCDC-CX106/2023  EPI_ISL_18543053     HK.3   \n",
       "3  hCoV-19/Henan/HBCDC-CX105/2023  EPI_ISL_18543052   HK.3.2   \n",
       "4  hCoV-19/Henan/HBCDC-CX104/2023  EPI_ISL_18543051     HK.3   \n",
       "\n",
       "  Sample_Collection_Date country province  city  \n",
       "0             10/26/2023   China    Henan  Hebi  \n",
       "1             10/26/2023   China    Henan  Hebi  \n",
       "2             10/26/2023   China    Henan  Hebi  \n",
       "3             10/26/2023   China    Henan  Hebi  \n",
       "4             10/26/2023   China    Henan  Hebi  "
      ]
     },
     "execution_count": 96,
     "metadata": {},
     "output_type": "execute_result"
    }
   ],
   "source": [
    "for i in df_meta_qualified_2.index:\n",
    "    temp_lin = result_dict[df_meta_qualified_2.loc[i,\"Accession_ID\"]]\n",
    "    df_meta_qualified_2.loc[i,\"Lineage\"] = temp_lin\n",
    "\n",
    "df_meta_qualified_2.head()"
   ]
  },
  {
   "cell_type": "code",
   "execution_count": 97,
   "metadata": {},
   "outputs": [],
   "source": [
    "df_meta_qualified_2.to_csv(dirpath+\"Qualified_china_meta.csv\",index=False)"
   ]
  },
  {
   "cell_type": "code",
   "execution_count": 99,
   "metadata": {},
   "outputs": [
    {
     "data": {
      "text/plain": [
       "(39456, 7)"
      ]
     },
     "execution_count": 99,
     "metadata": {},
     "output_type": "execute_result"
    }
   ],
   "source": [
    "df_meta_qualified_2.shape"
   ]
  }
 ],
 "metadata": {
  "interpreter": {
   "hash": "90e8717b28a9aac3b69b4bcb0692af4b61da6a939a8351c80ea2b4525614cf09"
  },
  "kernelspec": {
   "display_name": "Python 3.9.7 64-bit ('Mafft': conda)",
   "language": "python",
   "name": "python3"
  },
  "language_info": {
   "codemirror_mode": {
    "name": "ipython",
    "version": 3
   },
   "file_extension": ".py",
   "mimetype": "text/x-python",
   "name": "python",
   "nbconvert_exporter": "python",
   "pygments_lexer": "ipython3",
   "version": "3.9.7"
  },
  "orig_nbformat": 4
 },
 "nbformat": 4,
 "nbformat_minor": 2
}
